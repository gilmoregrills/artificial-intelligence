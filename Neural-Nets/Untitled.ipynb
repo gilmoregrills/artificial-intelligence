{
 "cells": [
  {
   "cell_type": "code",
   "execution_count": 1,
   "metadata": {
    "collapsed": false
   },
   "outputs": [
    {
     "name": "stdout",
     "output_type": "stream",
     "text": [
      "randomly generated weights\n",
      "[[ 0.01207845]\n",
      " [-0.11350097]]\n",
      "Output after training:\n",
      "[[ 0.5       ]\n",
      " [ 0.49981361]\n",
      " [ 0.50018625]\n",
      " [ 0.49999986]]\n"
     ]
    }
   ],
   "source": [
    "run simpleExample.py"
   ]
  },
  {
   "cell_type": "code",
   "execution_count": 16,
   "metadata": {
    "collapsed": false
   },
   "outputs": [
    {
     "name": "stdout",
     "output_type": "stream",
     "text": [
      "weights\n",
      "[[-0.16595599  0.44064899 -0.99977125 -0.39533485]\n",
      " [-0.70648822 -0.81532281 -0.62747958 -0.30887855]]\n",
      "[[-0.20646505]\n",
      " [ 0.07763347]\n",
      " [-0.16161097]\n",
      " [ 0.370439  ]]\n",
      "Output after training:\n",
      "[[ 0.00802491]\n",
      " [ 0.99405998]\n",
      " [ 0.99281435]\n",
      " [ 0.00594029]]\n"
     ]
    }
   ],
   "source": [
    "run simpleExample.py"
   ]
  },
  {
   "cell_type": "code",
   "execution_count": null,
   "metadata": {
    "collapsed": true
   },
   "outputs": [],
   "source": []
  }
 ],
 "metadata": {
  "kernelspec": {
   "display_name": "Robin",
   "language": "python",
   "name": "gilmoregrills"
  },
  "language_info": {
   "codemirror_mode": {
    "name": "ipython",
    "version": 2
   },
   "file_extension": ".py",
   "mimetype": "text/x-python",
   "name": "python",
   "nbconvert_exporter": "python",
   "pygments_lexer": "ipython2",
   "version": "2.7.12"
  }
 },
 "nbformat": 4,
 "nbformat_minor": 2
}
